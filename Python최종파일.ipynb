{
  "nbformat": 4,
  "nbformat_minor": 0,
  "metadata": {
    "colab": {
      "name": "Python최종제출",
      "provenance": [],
      "collapsed_sections": []
    },
    "kernelspec": {
      "name": "python3",
      "display_name": "Python 3"
    },
    "language_info": {
      "name": "python"
    }
  },
  "cells": [
    {
      "cell_type": "markdown",
      "source": [
        "# 1.비축기지 현황 EDA"
      ],
      "metadata": {
        "id": "C2lzFt9ItaMB"
      }
    },
    {
      "cell_type": "markdown",
      "source": [
        "## ### 비축기지 위치 지도 시각화 ### #"
      ],
      "metadata": {
        "id": "PByD50n0txj0"
      }
    },
    {
      "cell_type": "markdown",
      "source": [
        "### 0. 라이브러리 불러오기"
      ],
      "metadata": {
        "id": "6Oe7H1U5t1af"
      }
    },
    {
      "cell_type": "code",
      "source": [
        "import folium\n",
        "from pandas import Series, DataFrame\n",
        "import requests\n",
        "import json\n",
        "import pandas as pd\n",
        "from pandas.io.json import json_normalize\n",
        "import matplotlib.pyplot as plt\n",
        "from matplotlib import rc\n",
        "import numpy as np"
      ],
      "metadata": {
        "id": "09E4ntestv-E"
      },
      "execution_count": null,
      "outputs": []
    },
    {
      "cell_type": "markdown",
      "source": [
        "### 1. 데이터 불러오기"
      ],
      "metadata": {
        "id": "Kn1fcbmKt7gq"
      }
    },
    {
      "cell_type": "code",
      "execution_count": null,
      "metadata": {
        "id": "YaQUDfnFtXaj"
      },
      "outputs": [],
      "source": [
        "raw_data={'위도':[35.253994,35.098101, 37.455767, 35.947213,35.224320, 35.854518, 36.319447,35.221091,36.633687, 37.840402],\n",
        "     '경도':[129.012790,128.884242 , 126.629900,126.556169 ,126.850330 , 128.513494,127.369886,128.681025, 127.432544 , 127.716152 ],\n",
        "     '비축기지':['부산','부산 화전비축기지' ,'인천', '군산', '광주', '대구','대전', '경남','충북','강원']}\n",
        "data=DataFrame(raw_data)\n",
        "data"
      ]
    },
    {
      "cell_type": "markdown",
      "source": [
        "### 2. 시각화"
      ],
      "metadata": {
        "id": "Mtl00_CJt_Ds"
      }
    },
    {
      "cell_type": "code",
      "source": [
        "m = folium.Map(location=[36, 127], \n",
        "               zoom_start=7)\n",
        "\n",
        "coords = data[['위도', '경도']]\n",
        "\n",
        "\n",
        "marker_cluster = MarkerCluster().add_to(m)\n",
        "\n",
        "for lat, long in zip(coords['위도'], coords['경도']):\n",
        "    folium.Marker([lat, long], \n",
        "                  icon=folium.Icon('red', icon='star')).add_to(marker_cluster)\n",
        "\n",
        "\n",
        "folium.GeoJson(\n",
        "    seoul_geo,\n",
        "    name='지역구'\n",
        ").add_to(m)\n",
        "\n",
        "m"
      ],
      "metadata": {
        "id": "JhGfAwYXt_eb"
      },
      "execution_count": null,
      "outputs": []
    },
    {
      "cell_type": "markdown",
      "source": [
        "## ### 비축가능 면적 시각화 ### #"
      ],
      "metadata": {
        "id": "gepihm6LuDfe"
      }
    },
    {
      "cell_type": "markdown",
      "source": [
        "### 1. 데이터 불러오기"
      ],
      "metadata": {
        "id": "8cPDEowouG-J"
      }
    },
    {
      "cell_type": "code",
      "source": [
        "raw_data={'위도':[35.098101, 37.455767, 35.947213,35.224320, 35.854518, 36.319447,35.221091,36.633687, 37.840402],\n",
        "     '경도':[128.884242 , 126.629900,126.556169 ,126.850330 , 128.513494,127.369886,128.681025, 127.432544 , 127.716152 ],\n",
        "     '비축기지':['부산','인천', '군산', '광주', '대구','대전', '경남','충북','강원'],\n",
        "         '비축가능면적(m²)':[91346,29209,132230,3374,7139,3888,2492,4896,838 ]}\n",
        "data=DataFrame(raw_data)\n",
        "data"
      ],
      "metadata": {
        "id": "IQWy5x_OuFnw"
      },
      "execution_count": null,
      "outputs": []
    },
    {
      "cell_type": "markdown",
      "source": [
        "### 2. 시각화"
      ],
      "metadata": {
        "id": "WlnnLYq9uJ_X"
      }
    },
    {
      "cell_type": "code",
      "source": [
        "rc('font', family='AppleGothic')\n",
        "\n",
        "plt.rcParams['axes.unicode_minus'] = False\n",
        "\n",
        "data=data.sort_values(by=['비축가능면적(m²)'], ascending=False)\n",
        "data.plot.bar(x='비축기지',y='비축가능면적(m²)',rot=0, color='red')\n",
        "plt.title('비축기지별 비축가능면적')"
      ],
      "metadata": {
        "id": "pcCvnwLluJtk"
      },
      "execution_count": null,
      "outputs": []
    },
    {
      "cell_type": "markdown",
      "source": [
        "# 2. 경상남도 풍수해 취약 open API 데이터 수집"
      ],
      "metadata": {
        "id": "xD4hOcdWuP4F"
      }
    },
    {
      "cell_type": "markdown",
      "source": [
        "###1. 데이터 불러오기"
      ],
      "metadata": {
        "id": "iNJGmDiuuScU"
      }
    },
    {
      "cell_type": "code",
      "source": [
        "r1=requests.get('http://apis.data.go.kr/6480000/gnDsdtFrgltyAreaDateService/getgnDsdtFrgltyAreaDate?serviceKey=fmydB6%2Fjkkc7LquHYtgetUGiNMrdU0cujAYAucqENyOMPDLP6J2ugZ0tIe5MEtOHImfVpXBVyaNRK61FXlQH3A%3D%3D&pageNo=1&numOfRows=300&resultType=json')\n",
        "c1=r1.content\n",
        "korea_geo1=json.loads(c1)\n",
        "korea_geo1\n"
      ],
      "metadata": {
        "id": "_PrW_P0auU2E"
      },
      "execution_count": null,
      "outputs": []
    },
    {
      "cell_type": "markdown",
      "source": [
        "###2. 데이터 전처리"
      ],
      "metadata": {
        "id": "lqz-VfEOuVly"
      }
    },
    {
      "cell_type": "code",
      "source": [
        "df1=json_normalize(korea_geo1['getgnDsdtFrgltyAreaDate']['item'])\n",
        "df1.head()"
      ],
      "metadata": {
        "id": "vHLxtC8BuXtC"
      },
      "execution_count": null,
      "outputs": []
    },
    {
      "cell_type": "markdown",
      "source": [
        "###3.저장"
      ],
      "metadata": {
        "id": "FYW04an8uZGa"
      }
    },
    {
      "cell_type": "code",
      "source": [
        "df1.to_csv('/Users/josumi/경상남도 풍수해 취약 지역 데이터.csv', index = False)"
      ],
      "metadata": {
        "id": "VWxJlwo6uL1F"
      },
      "execution_count": null,
      "outputs": []
    },
    {
      "cell_type": "markdown",
      "source": [
        "# 3. 고속도로 톨게이트 위치 open API 데이터 수집\n"
      ],
      "metadata": {
        "id": "WtY4P4iBudzM"
      }
    },
    {
      "cell_type": "code",
      "source": [
        "r1=requests.get('http://data.ex.co.kr/openapi/basicinfo/unitList?key=3017947599&type=json&numOfRows=450&pageNo=1')\n",
        "r2=requests.get('http://data.ex.co.kr/openapi/basicinfo/unitList?key=3017947599&type=json&numOfRows=450&pageNo=2')\n",
        "r3=requests.get('http://data.ex.co.kr/openapi/basicinfo/unitList?key=3017947599&type=json&numOfRows=450&pageNo=3')\n",
        "r4=requests.get('http://data.ex.co.kr/openapi/basicinfo/unitList?key=3017947599&type=json&numOfRows=450&pageNo=4')\n",
        "r5=requests.get('http://data.ex.co.kr/openapi/basicinfo/unitList?key=3017947599&type=json&numOfRows=450&pageNo=5')\n",
        "\n",
        "c1=r1.content\n",
        "c2=r2.content\n",
        "c3=r3.content\n",
        "c4=r4.content\n",
        "c5=r5.content\n",
        "\n",
        "korea_geo1=json.loads(c1)\n",
        "korea_geo2=json.loads(c2)\n",
        "korea_geo3=json.loads(c3)\n",
        "korea_geo4=json.loads(c4)\n",
        "korea_geo5=json.loads(c5)\n",
        "\n",
        "\n",
        "df1=json_normalize(korea_geo1['unitLists'])\n",
        "df2=json_normalize(korea_geo2['unitLists'])\n",
        "df3=json_normalize(korea_geo3['unitLists'])\n",
        "df4=json_normalize(korea_geo4['unitLists'])\n",
        "df5=json_normalize(korea_geo5['unitLists'])\n",
        "\n",
        "\n",
        "\n",
        "df=pd.concat([df1,df2,df3,df4,df5])\n",
        "df"
      ],
      "metadata": {
        "id": "WsvOX4SBui0S"
      },
      "execution_count": null,
      "outputs": []
    },
    {
      "cell_type": "markdown",
      "source": [
        "###데이터 저장"
      ],
      "metadata": {
        "id": "zby9gthhue9H"
      }
    },
    {
      "cell_type": "code",
      "source": [
        "df.to_csv('/Users/josumi/톨게이트 목록 현황.csv', index = False)"
      ],
      "metadata": {
        "id": "RoUGEgiJukO5"
      },
      "execution_count": null,
      "outputs": []
    },
    {
      "cell_type": "markdown",
      "source": [
        "#4. 클러스터링"
      ],
      "metadata": {
        "id": "zxVlPKruusUt"
      }
    },
    {
      "cell_type": "markdown",
      "source": [
        "### 0. 라이브러리 불러오기"
      ],
      "metadata": {
        "id": "ArKttz3_ux6P"
      }
    },
    {
      "cell_type": "code",
      "source": [
        "#드라이브 마운트\n",
        "from google.colab import drive\n",
        "drive.mount('/content/drive')\n",
        "\n",
        "#라이브러리 설치\n",
        "import os\n",
        "import numpy as np\n",
        "import pandas as pd\n",
        "import matplotlib.pyplot as plt\n",
        "from matplotlib import rc\n",
        "import matplotlib.pyplot as plt\n",
        "from matplotlib import rc  ### 이 줄과\n",
        "import matplotlib.pyplot as plt\n",
        "from sklearn.metrics import silhouette_samples, silhouette_score\n",
        "import matplotlib.cm as cm\n",
        "import math\n",
        "from sklearn.cluster import KMeans\n",
        "import matplotlib.pyplot as plt\n",
        "from sklearn import preprocessing\n",
        "from sklearn.mixture import GaussianMixture"
      ],
      "metadata": {
        "id": "7WTEBBXXuok3"
      },
      "execution_count": null,
      "outputs": []
    },
    {
      "cell_type": "markdown",
      "source": [
        "###1. 데이터 불러오기"
      ],
      "metadata": {
        "id": "WCNnV2ipu5x_"
      }
    },
    {
      "cell_type": "code",
      "source": [
        "data=pd.read_csv('/content/drive/Shareddrives/공공조달 빅데이터 경진대회/data/cluster.csv', encoding = 'utf-8')\n",
        "rc('font', family='AppleGothic') \t\n",
        "plt.rcParams['axes.unicode_minus'] = False "
      ],
      "metadata": {
        "id": "9uklxjUDu6Ie"
      },
      "execution_count": null,
      "outputs": []
    },
    {
      "cell_type": "markdown",
      "source": [
        "###2. scatter plot 그리기"
      ],
      "metadata": {
        "id": "6djWGCGvu-IH"
      }
    },
    {
      "cell_type": "code",
      "source": [
        "X=data.iloc[:,[1,2]].values\n",
        "m=X.shape[0]\n",
        "n=X.shape[1]\n",
        "plt.scatter(X[:,0],X[:,1],c='black',label='비축기지')\n",
        "plt.xlabel('필요지수')\n",
        "plt.ylabel('공급지수')\n",
        "plt.legend()\n",
        "plt.title('비축기지')\n",
        "plt.show()"
      ],
      "metadata": {
        "id": "5BprneCivAlR"
      },
      "execution_count": null,
      "outputs": []
    },
    {
      "cell_type": "markdown",
      "source": [
        "## ### K-MEANS ### #"
      ],
      "metadata": {
        "id": "UYbmx8hxuujS"
      }
    },
    {
      "cell_type": "markdown",
      "source": [
        "### 0. 라이브러리 불러오기"
      ],
      "metadata": {
        "id": "70IGtxu9vFxW"
      }
    },
    {
      "cell_type": "code",
      "source": [
        "# 필요 패키지 불러오기 (KMeans, matplotlib, preprocessing)\n",
        "from sklearn.cluster import KMeans\n",
        "import matplotlib.pyplot as plt\n",
        "from sklearn import preprocessing"
      ],
      "metadata": {
        "id": "ZrsCjKujvEnR"
      },
      "execution_count": null,
      "outputs": []
    },
    {
      "cell_type": "markdown",
      "source": [
        "###1. 데이터 전처리"
      ],
      "metadata": {
        "id": "qJDD0CS9vI2f"
      }
    },
    {
      "cell_type": "code",
      "source": [
        "# 원본 데이터를 복사해서 전처리하기 (원본 데이터를 가지고 바로 전처리하지 않는다)\n",
        "processed_data = data.copy()\n",
        "# 데이터 전처리 - 정규화를 위한 작업\n",
        "scaler = preprocessing.MinMaxScaler()\n",
        "processed_data[['필요지수', '\b공급지수']] = scaler.fit_transform(processed_data[['필요지수', '공급지수']])\n",
        "# 화면(figure) 생성\n",
        "plt.figure(figsize = (10, 6))"
      ],
      "metadata": {
        "id": "HmEughApvIqx"
      },
      "execution_count": null,
      "outputs": []
    },
    {
      "cell_type": "markdown",
      "source": [
        "###2. 클러스터링"
      ],
      "metadata": {
        "id": "yOW6OQ08vRwW"
      }
    },
    {
      "cell_type": "code",
      "source": [
        "# K = 3으로 클러스터링\n",
        "estimator = KMeans(n_clusters = 3)\n",
        "# 클러스터링 생성\n",
        "cluster_ids = estimator.fit_predict(processed_data[['필요지수', '공급지수']])\n",
        "# create a scatter plot\n",
        "plt.scatter(processed_data['필요지수'], processed_data['공급지수'], c=cluster_ids)\n",
        "\n",
        "plt.xlabel('필요지수')\n",
        "plt.ylabel('공급지수')\n",
        "plt.show()"
      ],
      "metadata": {
        "id": "yjpdpUy5vRTR"
      },
      "execution_count": null,
      "outputs": []
    },
    {
      "cell_type": "markdown",
      "source": [
        "### 3. 실루엣 계수 plot 그려서 군집화가 잘 되었는지 확인"
      ],
      "metadata": {
        "id": "_1WRrvvfvYBI"
      }
    },
    {
      "cell_type": "markdown",
      "source": [
        "###3.1 실루엣 계수 생성 함수 작성"
      ],
      "metadata": {
        "id": "Ar1YRpY-vbxS"
      }
    },
    {
      "cell_type": "code",
      "source": [
        "### 여러개의 클러스터링 갯수를 List로 입력 받아 각각의 실루엣 계수를 면적으로 시각화한 함수 작성\n",
        "def visualize_silhouette(clustering, X_features, cluster_lists=[1]): \n",
        "    \n",
        "    # 입력값으로 클러스터링 갯수들을 리스트로 받아서, 각 갯수별로 클러스터링을 적용하고 실루엣 개수를 구함\n",
        "    n_cols = len(cluster_lists)\n",
        "    \n",
        "    # plt.subplots()으로 리스트에 기재된 클러스터링 수만큼의 sub figures를 가지는 axs 생성 \n",
        "    fig, axs = plt.subplots(figsize=(4*n_cols, 4), nrows=1, ncols=n_cols)\n",
        "    \n",
        "    # 리스트에 기재된 클러스터링 갯수들을 차례로 iteration 수행하면서 실루엣 개수 시각화\n",
        "    for ind, n_cluster in enumerate(cluster_lists):\n",
        "        \n",
        "        if clustering[0] == 'hierarchical':\n",
        "            model = AgglomerativeClustering(n_clusters=n_cluster, linkage=clustering[1])\n",
        "        elif clustering[0] == 'kmeans':\n",
        "            model = KMeans(n_clusters=n_cluster)\n",
        "        elif clustering[0] == 'kmedoids':\n",
        "            model = KMedoids(n_clusters=n_cluster)\n",
        "        elif clustering[0] == 'GMM':\n",
        "            model = GaussianMixture(n_components=n_cluster, random_state=0)\n",
        "        # KMeans 클러스터링 수행하고, 실루엣 스코어와 개별 데이터의 실루엣 값 계산. \n",
        "        cluster_labels = model.fit_predict(X_features)\n",
        "        \n",
        "        #if clustering[0] == 'dbscan':\n",
        "        #    n_cluster = len(set(cluster_labels))-1\n",
        "        \n",
        "        sil_avg = silhouette_score(X_features, cluster_labels)\n",
        "        sil_values = silhouette_samples(X_features, cluster_labels)\n",
        "        \n",
        "        y_lower = 10\n",
        "        axs[ind].set_title('Number of Cluster : '+ str(n_cluster)+'\\n' \\\n",
        "                          'Silhouette Score :' + str(round(sil_avg,3)) )\n",
        "        axs[ind].set_xlabel(\"The silhouette coefficient values\")\n",
        "        axs[ind].set_ylabel(\"Cluster label\")\n",
        "        axs[ind].set_xlim([-0.1, 1])\n",
        "        axs[ind].set_ylim([-1, len(X_features) + (n_cluster + 1) * 10])\n",
        "        axs[ind].set_yticks([])  # Clear the yaxis labels / ticks\n",
        "        axs[ind].set_xticks([0, 0.2, 0.4, 0.6, 0.8, 1])\n",
        "        \n",
        "        # 클러스터링 갯수별로 fill_betweenx( )형태의 막대 그래프 표현. \n",
        "        for i in range(n_cluster):\n",
        "            ith_cluster_sil_values = sil_values[cluster_labels==i]\n",
        "            ith_cluster_sil_values.sort()\n",
        "            \n",
        "            size_cluster_i = ith_cluster_sil_values.shape[0]\n",
        "            y_upper = y_lower + size_cluster_i\n",
        "            \n",
        "            color = cm.nipy_spectral(float(i) / n_cluster)\n",
        "            axs[ind].fill_betweenx(np.arange(y_lower, y_upper), 0, ith_cluster_sil_values, \\\n",
        "                                facecolor=color, edgecolor=color, alpha=0.7)\n",
        "            axs[ind].text(-0.05, y_lower + 0.5 * size_cluster_i, str(i))\n",
        "            y_lower = y_upper + 10\n",
        "            \n",
        "        axs[ind].axvline(x=sil_avg, color=\"red\", linestyle=\"--\")"
      ],
      "metadata": {
        "id": "R4iC55ZTvXOX"
      },
      "execution_count": null,
      "outputs": []
    },
    {
      "cell_type": "markdown",
      "source": [
        "###3.2 실루엣 계수 시각화"
      ],
      "metadata": {
        "id": "ooLFeE94vhQI"
      }
    },
    {
      "cell_type": "code",
      "source": [
        "visualize_silhouette(['kmeans'], X, [2,3,4])"
      ],
      "metadata": {
        "id": "2zS3TOPOvfrS"
      },
      "execution_count": null,
      "outputs": []
    },
    {
      "cell_type": "markdown",
      "source": [
        "###4. 클러스터링 결과"
      ],
      "metadata": {
        "id": "YL3eCpsWvltP"
      }
    },
    {
      "cell_type": "code",
      "source": [
        "#group 1=5개\n",
        "#group 2=10개\n",
        "#group 3=3개 로 묶임\n",
        "data[cluster_ids==0]"
      ],
      "metadata": {
        "id": "SxKEx82uvfjM"
      },
      "execution_count": null,
      "outputs": []
    },
    {
      "cell_type": "code",
      "source": [
        "data[cluster_ids==1]"
      ],
      "metadata": {
        "id": "xXXiORryvoe5"
      },
      "execution_count": null,
      "outputs": []
    },
    {
      "cell_type": "code",
      "source": [
        "data[cluster_ids==2]"
      ],
      "metadata": {
        "id": "7QFcmA6gvp23"
      },
      "execution_count": null,
      "outputs": []
    },
    {
      "cell_type": "code",
      "source": [
        "data[cluster_ids==3]"
      ],
      "metadata": {
        "id": "7vvqGmJgvq9g"
      },
      "execution_count": null,
      "outputs": []
    },
    {
      "cell_type": "markdown",
      "source": [
        "## ### GMM ### #"
      ],
      "metadata": {
        "id": "fsKyz0MKvtcF"
      }
    },
    {
      "cell_type": "markdown",
      "source": [
        "### 0. 라이브러리 불러오기"
      ],
      "metadata": {
        "id": "S1HCSxlUvwgn"
      }
    },
    {
      "cell_type": "code",
      "source": [
        "# GMM 적용\n",
        "from sklearn.mixture import GaussianMixture"
      ],
      "metadata": {
        "id": "URalZgEtvzSH"
      },
      "execution_count": null,
      "outputs": []
    },
    {
      "cell_type": "markdown",
      "source": [
        "###1. 클러스터링"
      ],
      "metadata": {
        "id": "0IsFHeIav2Ti"
      }
    },
    {
      "cell_type": "code",
      "source": [
        "# n_components로 미리 군집 개수 설정\n",
        "gmm = GaussianMixture(n_components=4, random_state=0)\n",
        "gmm_labels = gmm.fit_predict(processed_data[['필요지수', '공급지수']])\n",
        "\n",
        "# GMM 후 클러스터링 레이블을 따로 설정\n",
        "gmm_labels"
      ],
      "metadata": {
        "id": "IAFFyYiFvv_F"
      },
      "execution_count": null,
      "outputs": []
    },
    {
      "cell_type": "markdown",
      "source": [
        "###2. scatter plot 그리기"
      ],
      "metadata": {
        "id": "mvy5QyVWv2NS"
      }
    },
    {
      "cell_type": "code",
      "source": [
        "# create a scatter plot\n",
        "plt.scatter(processed_data['필요지수'], processed_data['공급지수'], c=gmm_labels)\n",
        "\n",
        "plt.xlabel('필요지수')\n",
        "plt.ylabel('공급지수')\n",
        "plt.show()"
      ],
      "metadata": {
        "id": "nCGhA1XEv6fD"
      },
      "execution_count": null,
      "outputs": []
    },
    {
      "cell_type": "markdown",
      "source": [
        "###3. 실루엣 계수 시각화"
      ],
      "metadata": {
        "id": "82180UaNv-P4"
      }
    },
    {
      "cell_type": "code",
      "source": [
        "visualize_silhouette(['GMM'], X, [2,3,4])"
      ],
      "metadata": {
        "id": "3wc3MuHsv_U5"
      },
      "execution_count": null,
      "outputs": []
    },
    {
      "cell_type": "markdown",
      "source": [
        "###4. 클러스터링 결과"
      ],
      "metadata": {
        "id": "wAlLdMT6wBKn"
      }
    },
    {
      "cell_type": "code",
      "source": [
        "#group 1=7개\n",
        "#group 2=7개\n",
        "#group 3=4개\n",
        "data[gmm_labels==0]"
      ],
      "metadata": {
        "id": "8FPbGQPfwE6A"
      },
      "execution_count": null,
      "outputs": []
    },
    {
      "cell_type": "code",
      "source": [
        "data[gmm_labels==1]"
      ],
      "metadata": {
        "id": "TcGeoIY_wIF2"
      },
      "execution_count": null,
      "outputs": []
    },
    {
      "cell_type": "code",
      "source": [
        "data[gmm_labels==2]"
      ],
      "metadata": {
        "id": "V5dMa2sNwJO-"
      },
      "execution_count": null,
      "outputs": []
    },
    {
      "cell_type": "code",
      "source": [
        "data[gmm_labels==3]"
      ],
      "metadata": {
        "id": "6S_wu0ROwMmn"
      },
      "execution_count": null,
      "outputs": []
    },
    {
      "cell_type": "markdown",
      "source": [
        "## ### K-MEDOIDS ### #"
      ],
      "metadata": {
        "id": "EU1Pot2LwHT2"
      }
    },
    {
      "cell_type": "markdown",
      "source": [
        "### 0. 라이브러리 불러오기"
      ],
      "metadata": {
        "id": "yySYYzotwUmA"
      }
    },
    {
      "cell_type": "code",
      "source": [
        "import pandas as pd\n",
        "import matplotlib.pyplot as plt\n",
        "import seaborn as sns\n",
        "import matplotlib.font_manager as fm\n",
        "import numpy as np\n",
        "import random as rd\n",
        "import os\n",
        "from sklearn_extra.cluster import KMedoids"
      ],
      "metadata": {
        "id": "cXZG1-tMwUU9"
      },
      "execution_count": null,
      "outputs": []
    },
    {
      "cell_type": "markdown",
      "source": [
        "###1. 데이터 불러오기"
      ],
      "metadata": {
        "id": "rCB0bPCfwbnG"
      }
    },
    {
      "cell_type": "code",
      "source": [
        "data = pd.read_csv('cluster.csv')\n",
        "\n",
        "city = pd.DataFrame(data['시군구'])\n",
        "data.drop(['시군구'],axis=1,inplace=True)\n",
        "data"
      ],
      "metadata": {
        "id": "BxJp9b-hwbT6"
      },
      "execution_count": null,
      "outputs": []
    },
    {
      "cell_type": "markdown",
      "source": [
        "###2.클러스터링"
      ],
      "metadata": {
        "id": "iM5ML2rkwknJ"
      }
    },
    {
      "cell_type": "code",
      "source": [
        "kmedoids = KMedoids(n_clusters=3)\n",
        "kmedoids.fit(data)\n",
        "data['cluster'] = kmedoids.labels_\n",
        "grouped = data.groupby('cluster')\n",
        "grouped.size()"
      ],
      "metadata": {
        "id": "T7-EI5JgwkTn"
      },
      "execution_count": null,
      "outputs": []
    },
    {
      "cell_type": "markdown",
      "source": [
        "###3. scatter plot 그리기"
      ],
      "metadata": {
        "id": "62Oqw32cwsuD"
      }
    },
    {
      "cell_type": "code",
      "source": [
        "plt.figure(figsize=(20, 6))\n",
        "\n",
        "sns.scatterplot(x='필요지수', y='공급지수', data=data, hue=kmedoids.labels_,palette=\"Set2\")\n",
        "plt.scatter(kmedoids.cluster_centers_[:, 0], kmedoids.cluster_centers_[:, 1], c='red', alpha=0.5, s=150)"
      ],
      "metadata": {
        "id": "mO2BOvuxwqSu"
      },
      "execution_count": null,
      "outputs": []
    },
    {
      "cell_type": "markdown",
      "source": [
        "###4. 실루엣 계수 시각화"
      ],
      "metadata": {
        "id": "MJxdmFkcw0Iu"
      }
    },
    {
      "cell_type": "code",
      "source": [
        "visualize_silhouette(['kmedoids'], data, [2,3,4])"
      ],
      "metadata": {
        "id": "y_GCdYcywyWx"
      },
      "execution_count": null,
      "outputs": []
    },
    {
      "cell_type": "markdown",
      "source": [
        "###4. 클러스터링 결과"
      ],
      "metadata": {
        "id": "Um_pLmm5w6eD"
      }
    },
    {
      "cell_type": "code",
      "source": [
        "#group 1=8개\n",
        "#group 2=6개\n",
        "#group 3=4개\n",
        "data = pd.concat([city, data], axis =1)\n",
        "data[data['cluster'] == 0]"
      ],
      "metadata": {
        "id": "J7WqsItyw4Q_"
      },
      "execution_count": null,
      "outputs": []
    },
    {
      "cell_type": "code",
      "source": [
        "data[data['cluster'] == 0]"
      ],
      "metadata": {
        "id": "TpuqyHCew6MO"
      },
      "execution_count": null,
      "outputs": []
    },
    {
      "cell_type": "code",
      "source": [
        "data[data['cluster'] == 1]"
      ],
      "metadata": {
        "id": "qKMu6xqOxB0a"
      },
      "execution_count": null,
      "outputs": []
    },
    {
      "cell_type": "code",
      "source": [
        "data[data['cluster'] == 2]"
      ],
      "metadata": {
        "id": "wclmX6PLxDDa"
      },
      "execution_count": null,
      "outputs": []
    },
    {
      "cell_type": "markdown",
      "source": [
        "## ### DBSCAN ### #"
      ],
      "metadata": {
        "id": "neY9WFfLxEnH"
      }
    },
    {
      "cell_type": "markdown",
      "source": [
        "### 0. 라이브러리 불러오기"
      ],
      "metadata": {
        "id": "84L9dJSxxPKl"
      }
    },
    {
      "cell_type": "code",
      "source": [
        "from sklearn.cluster import DBSCAN"
      ],
      "metadata": {
        "id": "vsEFQYMPxO3j"
      },
      "execution_count": null,
      "outputs": []
    },
    {
      "cell_type": "markdown",
      "source": [
        "###1. 데이터 불러오기"
      ],
      "metadata": {
        "id": "AQ7XhWzHxKZp"
      }
    },
    {
      "cell_type": "code",
      "source": [
        "city = pd.DataFrame(data['시군구'])\n",
        "data.drop(['시군구','cluster'],axis=1,inplace=True)\n",
        "data"
      ],
      "metadata": {
        "id": "9QprAa31xI9c"
      },
      "execution_count": null,
      "outputs": []
    },
    {
      "cell_type": "markdown",
      "source": [
        "###2. 클러스터링"
      ],
      "metadata": {
        "id": "kTnfsp6zxRj2"
      }
    },
    {
      "cell_type": "code",
      "source": [
        "# create model and prediction\n",
        "model = DBSCAN(eps=1100,min_samples=3)\n",
        "predict = pd.DataFrame(model.fit_predict(data))\n",
        "predict.columns=['predict']\n",
        "\n",
        "# concatenate labels to df as a new column\n",
        "r = pd.concat([data,predict],axis=1)\n",
        "\n",
        "print(r)"
      ],
      "metadata": {
        "id": "vFMoc5CfxNTM"
      },
      "execution_count": null,
      "outputs": []
    },
    {
      "cell_type": "markdown",
      "source": [
        "###3. 시각화"
      ],
      "metadata": {
        "id": "HTVsy34qxXcF"
      }
    },
    {
      "cell_type": "code",
      "source": [
        "r.columns = ['demand', 'supply', 'cluster']\n",
        "#pairplot with Seaborn\n",
        "sns.pairplot(r,hue='cluster')\n",
        "\n",
        "plt.show()\n",
        "#group 1=13개\n",
        "#group 2=2개\n",
        "#group 3=3개"
      ],
      "metadata": {
        "id": "ywO02yb6xVqR"
      },
      "execution_count": null,
      "outputs": []
    },
    {
      "cell_type": "markdown",
      "source": [
        "#5. 위도경도 변환"
      ],
      "metadata": {
        "id": "kg404VeEKY1e"
      }
    },
    {
      "cell_type": "markdown",
      "source": [
        "### 0. 라이브러리 불러오기"
      ],
      "metadata": {
        "id": "JBV792x9KePI"
      }
    },
    {
      "cell_type": "code",
      "source": [
        "import json\n",
        "import requests\n",
        "import pandas as pd"
      ],
      "metadata": {
        "id": "c-xdeH_vKgLY"
      },
      "execution_count": null,
      "outputs": []
    },
    {
      "cell_type": "markdown",
      "source": [
        "###0.1 카카오 API 키 가져오기"
      ],
      "metadata": {
        "id": "lPtrhCYyKjkO"
      }
    },
    {
      "cell_type": "code",
      "source": [
        "#카카오 REST API 가져오기\n",
        "api_key = \"edef92ecfd848f8465f5d6fa09dd3407\""
      ],
      "metadata": {
        "id": "AXsiJhFdKkBn"
      },
      "execution_count": null,
      "outputs": []
    },
    {
      "cell_type": "markdown",
      "source": [
        "###1. 위도 경도 변환 함수 작성"
      ],
      "metadata": {
        "id": "F1JvGEbrKvYp"
      }
    },
    {
      "cell_type": "code",
      "source": [
        "# 위도경도 변환 함수\n",
        "def addr_to_lat_lon(addr):\n",
        "    url = 'https://dapi.kakao.com/v2/local/search/address.json?query={address}'.format(address=addr)\n",
        "    headers = {\"Authorization\": \"KakaoAK \" + api_key}\n",
        "    result = json.loads(str(requests.get(url, headers=headers).text))\n",
        "    match_first = result['documents'][0]['address']\n",
        "    return float(match_first['y']), float(match_first['x'])"
      ],
      "metadata": {
        "id": "0_0qXqmyKxy7"
      },
      "execution_count": null,
      "outputs": []
    },
    {
      "cell_type": "markdown",
      "source": [
        "###2. 데이터 전처리"
      ],
      "metadata": {
        "id": "wBTTqXEKK2zo"
      }
    },
    {
      "cell_type": "code",
      "source": [
        "# 괄호 모두 제거 \n",
        "regex = \"\\(.*\\)|\\s-\\s.*\"\n",
        "for i in range(len(df)):\n",
        "    df['공장대표주소'][i] = re.sub(regex,'',df['공장대표주소'][i])\n",
        "\n",
        "#외 위치 찾기\n",
        "for i in range(len(df)): \n",
        "    df.loc[i,['loc']]= df['공장대표주소'][i].find(\"외\")\n",
        "    print(i)\n",
        "\n",
        "#외가 없는 곳은 -1이므로, -1의 값을 갖는 행은 그 문장의 길이로 변환\n",
        "for i in range(len(df)): \n",
        "    if df['loc'][i] == -1.0 :\n",
        "        df['loc'][i] = len(df['공장대표주소'][i])"
      ],
      "metadata": {
        "id": "RLXYKFrFK5Gr"
      },
      "execution_count": null,
      "outputs": []
    },
    {
      "cell_type": "code",
      "source": [
        "# 잘 바뀌엇는지 확인\n",
        "df['loc']"
      ],
      "metadata": {
        "id": "0guC3JiFLC4I"
      },
      "execution_count": null,
      "outputs": []
    },
    {
      "cell_type": "code",
      "source": [
        "# 앞에서 구한 외 앞에서 끊기 실행\n",
        "for i in range(len(df)): \n",
        "    ss = df['공장대표주소'][i]\n",
        "    df['공장대표주소'][i] = ss[0:int(df['loc'][i])]\n",
        "\n",
        "# 콤마 기준 앞문장만 선택\n",
        "for i in range(len(df)): \n",
        "    df['공장대표주소'][i] = df['공장대표주소'][i].split(',', 1)[0]"
      ],
      "metadata": {
        "id": "oVdd8lWxLE5g"
      },
      "execution_count": null,
      "outputs": []
    },
    {
      "cell_type": "markdown",
      "source": [
        "###3. 위도 경도 변환"
      ],
      "metadata": {
        "id": "s5HgYd7TLJAy"
      }
    },
    {
      "cell_type": "code",
      "source": [
        "# 위도 경도로 변환\n",
        "for i in range(0,len(df)):\n",
        "    try:\n",
        "        address= df['공장대표주소'][i]\n",
        "        location = addr_to_lat_lon(address)\n",
        "        lat = location[0]\n",
        "        long = location[1]\n",
        "        df.loc[i,['longtitude']] = long\n",
        "        df.loc[i,['latitude']] = lat\n",
        "        print(i)\n",
        "    except:\n",
        "        pass"
      ],
      "metadata": {
        "id": "HLfaPcWFLJX8"
      },
      "execution_count": null,
      "outputs": []
    },
    {
      "cell_type": "markdown",
      "source": [
        "###4. 행정동 데이터 추출"
      ],
      "metadata": {
        "id": "Z4doFXMdLODB"
      }
    },
    {
      "cell_type": "code",
      "source": [
        "df.dropna(axis=0,inplace=True) ## 오류로 변환되지 않았던 행은 모두 제거\n",
        "\n",
        "chang=df[df['공장대표주소'].str.contains('창원시')] #주소에 창원시 포함된 행만 추출 \n",
        "gim=df[df['공장대표주소'].str.contains('김해시')] #주소에 김해시 포함된 행만 추출 \n",
        "haman=df[df['공장대표주소'].str.contains('함안군')] #주소에 함안군 포함된 행만 추출 \n",
        "\n",
        "hap = pd.concat([chang, gim, haman], axis = 0) # 위 3개의 데이터프레임 합쳐서 데이터셋 생성"
      ],
      "metadata": {
        "id": "HjGyhmFwLOVG"
      },
      "execution_count": null,
      "outputs": []
    },
    {
      "cell_type": "markdown",
      "source": [
        "###데이터 저장"
      ],
      "metadata": {
        "id": "UivoWOxULR1e"
      }
    },
    {
      "cell_type": "code",
      "source": [
        "hap.to_csv(\"경상남도_제조업체_위도경도.csv\")"
      ],
      "metadata": {
        "id": "ESpHAZ88LRc8"
      },
      "execution_count": null,
      "outputs": []
    }
  ]
}